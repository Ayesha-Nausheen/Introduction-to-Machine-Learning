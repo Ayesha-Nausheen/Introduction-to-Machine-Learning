{
 "cells": [
  {
   "cell_type": "markdown",
   "id": "10f6631e",
   "metadata": {},
   "source": [
    "# Steps for Jupyter Notebook 1"
   ]
  },
  {
   "cell_type": "markdown",
   "id": "c3eceea6",
   "metadata": {},
   "source": [
    "## Step 1: Basic Data Understanding\n",
    "\n",
    "1. Data Understandding\n",
    "    1. Each variable\n",
    "    2. Dataset\n",
    "    3. Continious vs discrete\n",
    "    4. Figure out the type of ML model to be used\n",
    "2. Exploratory Data Analysis\n",
    "    1. Analyze and understand each and every variable clearly\n",
    "    2. Understand given raw data\n",
    "3. Inferences and conclusion"
   ]
  },
  {
   "cell_type": "markdown",
   "id": "f3dc40fd",
   "metadata": {},
   "source": [
    "# Steps for Jupyter Notebook 2"
   ]
  },
  {
   "cell_type": "markdown",
   "id": "4f32e480",
   "metadata": {},
   "source": [
    "## Step 2: Data Preprocessing\n",
    "1. Data Cleaning\n",
    "    1. Missing Values\n",
    "    2. Outliers\n",
    "    3. Duplicates\n",
    "2. Data Wrangling\n",
    "    1. Encoding\n",
    "    2. Transformation\n",
    "3. Feature Selection\n",
    "    1. Feature Scaling\n",
    "    2. Feature Transformation"
   ]
  },
  {
   "cell_type": "markdown",
   "id": "30eb8fad",
   "metadata": {},
   "source": [
    "Note: Machine cant learn alphabetic data so convert all data to numeric data before trying ML alforithma"
   ]
  },
  {
   "cell_type": "markdown",
   "id": "eb222680",
   "metadata": {},
   "source": [
    "# Steps for Jupyter Notebook 3"
   ]
  },
  {
   "cell_type": "markdown",
   "id": "ee0717fa",
   "metadata": {},
   "source": [
    "## Step 3: Machine Learning Models\n",
    "1. Trying machine learning models according to the data\n",
    "    1. Train test split\n",
    "2. Tryng MLA-1 with default parameters\n",
    "    1. Evaluation\n",
    "    2. Cross Validation\n",
    "    3. Hyperparameter tuning with GridSearchCV\n",
    "    4. Selecting the best parameter\n",
    "    5. Final best ML-1 Model\n",
    "3. Tryng MLA-2 with default parameters\n",
    "    1. Evaluation\n",
    "    2. Cross Validation\n",
    "    3. Hyperparameter tuning with GridSearchCV\n",
    "    4. Selecting the best parameter\n",
    "    5. Final best ML-2 Model\n",
    "4. Tryng MLA-3,4,5 an so on with default parameters\n",
    "    1. Evaluation\n",
    "    2. Cross Validation\n",
    "    3. Hyperparameter tuning with GridSearchCV\n",
    "    4. Selecting the best parameter\n",
    "    5. Final best ML-3,4,5 an so on"
   ]
  },
  {
   "cell_type": "markdown",
   "id": "befaabb4",
   "metadata": {},
   "source": [
    "# Steps for Jupyter Notebook 4"
   ]
  },
  {
   "cell_type": "markdown",
   "id": "2cf107c4",
   "metadata": {},
   "source": [
    "## Step 4: Selecting the best ML Model\n",
    "1. Finally putting together the final ML1,2,3,4,5 and so on\n",
    "2. Checking the requirements\n",
    "    1. Accuracy\n",
    "    2. No overfitting and underfitting problems\n",
    "    3. Client Requrements\n",
    "3. Identify the good and best models\n",
    "4. Sharing only the best ML to the deployment team accoring to client requirments"
   ]
  },
  {
   "cell_type": "markdown",
   "id": "9f38c438",
   "metadata": {},
   "source": [
    "- Note: Always scale data after spliting data into train test data"
   ]
  },
  {
   "cell_type": "code",
   "execution_count": null,
   "id": "5b36fdf2",
   "metadata": {},
   "outputs": [],
   "source": []
  }
 ],
 "metadata": {
  "kernelspec": {
   "display_name": "Python 3 (ipykernel)",
   "language": "python",
   "name": "python3"
  },
  "language_info": {
   "codemirror_mode": {
    "name": "ipython",
    "version": 3
   },
   "file_extension": ".py",
   "mimetype": "text/x-python",
   "name": "python",
   "nbconvert_exporter": "python",
   "pygments_lexer": "ipython3",
   "version": "3.9.13"
  }
 },
 "nbformat": 4,
 "nbformat_minor": 5
}
